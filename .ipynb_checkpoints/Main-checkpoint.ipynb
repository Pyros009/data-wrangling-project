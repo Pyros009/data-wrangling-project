{
 "cells": [
  {
   "cell_type": "code",
   "execution_count": null,
   "metadata": {},
   "outputs": [],
   "source": [
    "import aiohttp\n",
    "import http\n",
    "from bs4 import BeautifulSoup\n",
    "import asyncio\n",
    "import requests\n",
    "import pandas as pd\n",
    "import re, time\n",
    "import pickle\n",
    "import json\n",
    "import steam_tags_f as stf"
   ]
  },
  {
   "cell_type": "code",
   "execution_count": null,
   "metadata": {},
   "outputs": [],
   "source": [
    "pd.options.display.float_format = '{:.2f}'.format\n",
    "pd.set_option('display.max_rows', 500)\n",
    "pd.set_option('display.max_columns', 30)"
   ]
  },
  {
   "cell_type": "code",
   "execution_count": null,
   "metadata": {},
   "outputs": [],
   "source": [
    "%load_ext autoreload\n",
    "%autoreload 2 "
   ]
  },
  {
   "cell_type": "markdown",
   "metadata": {},
   "source": [
    "GETTING THE TAGS AND MULTIPLAYER INFO"
   ]
  },
  {
   "cell_type": "code",
   "execution_count": null,
   "metadata": {},
   "outputs": [],
   "source": [
    "url = \"http://api.steampowered.com/ISteamApps/GetAppList/v2/\"\n",
    "\n",
    "token = \"1AC3575ADB761319F3EF72D1FA362232\"\n",
    "\n",
    "params = {\"key\":token}\n",
    "response = requests.get(url, params=params)\n",
    "\n",
    "data = response.json()\n",
    "\n",
    "app_dict = {app['name']: app['appid'] for app in data['applist']['apps']}\n"
   ]
  },
  {
   "cell_type": "code",
   "execution_count": null,
   "metadata": {},
   "outputs": [],
   "source": [
    "top1000 = pd.read_csv('TOP 1000 Games cleaned.csv')"
   ]
  },
  {
   "cell_type": "code",
   "execution_count": null,
   "metadata": {},
   "outputs": [],
   "source": [
    "top1000[\"APP ID\"] = 0"
   ]
  },
  {
   "cell_type": "code",
   "execution_count": null,
   "metadata": {},
   "outputs": [],
   "source": [
    "#top1000_2 = stf.add_appid(top1000,app_dict)"
   ]
  },
  {
   "cell_type": "code",
   "execution_count": null,
   "metadata": {},
   "outputs": [],
   "source": [
    "#top1000.to_csv('TOP 1000 Games cleaned AppId.csv', index=False)"
   ]
  },
  {
   "cell_type": "code",
   "execution_count": null,
   "metadata": {},
   "outputs": [],
   "source": [
    "#manually entered some app-ids that were not fetched\n",
    "appid_fix = pd.read_csv('top_1000_games_cleaned_appid_fix.csv')"
   ]
  },
  {
   "cell_type": "code",
   "execution_count": null,
   "metadata": {},
   "outputs": [],
   "source": [
    "appid_fix"
   ]
  },
  {
   "cell_type": "code",
   "execution_count": null,
   "metadata": {},
   "outputs": [],
   "source": [
    "txt = pd.read_csv(r\"top_1000_games_cleaned_appid_fix.csv\")\n",
    "txt = txt.rename({\"Game Title\":\"title\", \"Steam App ID\":\"id\"}, axis=1)\n",
    "appid_list = list(txt[\"id\"])"
   ]
  },
  {
   "cell_type": "code",
   "execution_count": null,
   "metadata": {},
   "outputs": [],
   "source": [
    "# Example\n",
    "appid = 2923300\n",
    "\n",
    "# Step 1: Make a request to the Steam API\n",
    "response = requests.get(f\"http://store.steampowered.com/api/appdetails?appids={appid}\")\n",
    "\n",
    "# Step 2: Parse the response\n",
    "game = response.json()\n",
    "\n",
    "#Step 3: Pretty-print the JSON response for better readability\n",
    "print(json.dumps(game, indent=4))  # Format with indentation of 4 spaces\n"
   ]
  },
  {
   "cell_type": "code",
   "execution_count": null,
   "metadata": {},
   "outputs": [],
   "source": [
    "genres = game[\"2923300\"][\"data\"][\"genres\"]\n",
    "descriptions = [genre[\"description\"] for genre in genres]\n",
    "print (descriptions)"
   ]
  },
  {
   "cell_type": "code",
   "execution_count": null,
   "metadata": {},
   "outputs": [],
   "source": [
    "result = stf.check_multiplayer_single(\"1599340\")\n",
    "print(result) "
   ]
  },
  {
   "cell_type": "code",
   "execution_count": null,
   "metadata": {},
   "outputs": [],
   "source": [
    "#tag_dict = stf.get_tags(appid_list)"
   ]
  },
  {
   "cell_type": "code",
   "execution_count": null,
   "metadata": {},
   "outputs": [],
   "source": [
    "with open (\"tag_dict.pkl\", \"rb\") as tag_dict_file:\n",
    "    tag_dict = pickle.load(tag_dict_file)\n"
   ]
  },
  {
   "cell_type": "code",
   "execution_count": null,
   "metadata": {},
   "outputs": [],
   "source": [
    "tag_dict"
   ]
  },
  {
   "cell_type": "code",
   "execution_count": null,
   "metadata": {},
   "outputs": [],
   "source": [
    "appid_fix[\"tags\"] = 0\n",
    "\n",
    "#steam_df_tags = stf.add_tags(appid_fix,tag_dict)"
   ]
  },
  {
   "cell_type": "code",
   "execution_count": null,
   "metadata": {},
   "outputs": [],
   "source": [
    "with open (\"steam_df_tags.pkl\", \"rb\") as steam_df_tags_file:\n",
    "    steam_df_tags = pickle.load(steam_df_tags_file)\n",
    "\n",
    "steam_df_tags"
   ]
  },
  {
   "cell_type": "code",
   "execution_count": null,
   "metadata": {},
   "outputs": [],
   "source": [
    "#steam_df_tags.to_csv('steam_appid_tags.csv', index=False)"
   ]
  },
  {
   "cell_type": "code",
   "execution_count": null,
   "metadata": {},
   "outputs": [],
   "source": [
    "token = \"1AC3575ADB761319F3EF72D1FA362232\""
   ]
  },
  {
   "cell_type": "code",
   "execution_count": null,
   "metadata": {},
   "outputs": [],
   "source": [
    "#mp_dict = stf.check_multiplayer(appid_list, token, delay=1)"
   ]
  },
  {
   "cell_type": "code",
   "execution_count": null,
   "metadata": {},
   "outputs": [],
   "source": [
    "with open (\"mp_dict.pkl\", \"rb\") as mp_dict_file:\n",
    "    mp_dict = pickle.load(mp_dict_file)\n",
    "\n",
    "mp_dict"
   ]
  },
  {
   "cell_type": "code",
   "execution_count": null,
   "metadata": {},
   "outputs": [],
   "source": [
    "steam_df_tags_mp = stf.add_mp(steam_df_tags, mp_dict)"
   ]
  },
  {
   "cell_type": "code",
   "execution_count": null,
   "metadata": {},
   "outputs": [],
   "source": [
    "steam_df_tags_mp"
   ]
  },
  {
   "cell_type": "code",
   "execution_count": null,
   "metadata": {},
   "outputs": [],
   "source": [
    "steam_df_tags_mp.to_csv('steam_appid_tags_mp.csv', index=False)"
   ]
  },
  {
   "cell_type": "code",
   "execution_count": null,
   "metadata": {},
   "outputs": [],
   "source": []
  },
  {
   "cell_type": "code",
   "execution_count": null,
   "metadata": {},
   "outputs": [],
   "source": []
  },
  {
   "cell_type": "markdown",
   "metadata": {},
   "source": [
    "FUNCTIONS"
   ]
  },
  {
   "cell_type": "code",
   "execution_count": null,
   "metadata": {},
   "outputs": [],
   "source": [
    "def get_url(url, headers=None, params=None):\n",
    "    \n",
    "    response = requests.get(url,headers=headers, params=params)\n",
    "    stat = response.status_code\n",
    "    soup = BeautifulSoup(response.content, 'html.parser')\n",
    "    time.sleep(1)\n",
    "    \n",
    "    return stat, soup"
   ]
  },
  {
   "cell_type": "markdown",
   "metadata": {},
   "source": [
    "MAIN CODES"
   ]
  },
  {
   "cell_type": "code",
   "execution_count": null,
   "metadata": {},
   "outputs": [],
   "source": []
  },
  {
   "cell_type": "code",
   "execution_count": null,
   "metadata": {},
   "outputs": [],
   "source": [
    "gameid = \"582660\"\n",
    "url = f'https://steamcharts.com/app/{gameid}'\n",
    "headers= {'User-Agent': 'Mozilla/5.0 (Windows NT 10.0; Win64; x64) AppleWebKit/537.36 (KHTML, like Gecko) Chrome/122.0.0.0 Safari/537.36'}\n",
    "\n",
    "stat, soup = get_url(url, headers=headers, params=gameid)\n",
    "print(f\"Status is : {stat}\")"
   ]
  },
  {
   "cell_type": "code",
   "execution_count": null,
   "metadata": {},
   "outputs": [],
   "source": [
    "k_value = 0    \n",
    "game_id_dict = {}\n",
    "player_game = {} \n",
    "\n",
    "players = soup.find(\"tbody\")\n",
    "play = re.split(r\"[\\n\\t]+\",players.get_text().strip())\n",
    "\n",
    "for i in range(0, len(play), 5):\n",
    "    # Date\n",
    "    date = play[i]\n",
    "    # Peak players\n",
    "    peak = play[i+1]  \n",
    "    # Average players\n",
    "    average = play[i +4]\n",
    "    player_game[k_value]={\"Date\": date,\n",
    "                          \"Peak Players\":peak,\n",
    "                          \"Avg Players\":average,\n",
    "    }\n",
    "    k_value += 1\n",
    "    \n",
    "game_id_dict[gameid] = player_game.copy()\n",
    "\n",
    "game_id_dict\n"
   ]
  }
 ],
 "metadata": {
  "kernelspec": {
   "display_name": "Python 3 (ipykernel)",
   "language": "python",
   "name": "python3"
  },
  "language_info": {
   "codemirror_mode": {
    "name": "ipython",
    "version": 3
   },
   "file_extension": ".py",
   "mimetype": "text/x-python",
   "name": "python",
   "nbconvert_exporter": "python",
   "pygments_lexer": "ipython3",
   "version": "3.12.4"
  }
 },
 "nbformat": 4,
 "nbformat_minor": 4
}
