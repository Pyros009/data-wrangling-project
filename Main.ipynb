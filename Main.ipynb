{
 "cells": [
  {
   "cell_type": "code",
   "execution_count": 2,
   "metadata": {},
   "outputs": [],
   "source": [
    "import aiohttp, http, asyncio, requests, re, time, os, json, pickle\n",
    "from bs4 import BeautifulSoup\n",
    "import pandas as pd\n",
    "import seaborn as sns\n",
    "import matplotlib.pyplot as plt\n",
    "import matplotlib.dates as mdates\n",
    "import steam_tags_f as stf\n",
    "import functools, random\n",
    "from dotenv import load_dotenv\n"
   ]
  },
  {
   "cell_type": "code",
   "execution_count": 2,
   "metadata": {},
   "outputs": [],
   "source": [
    "pd.options.display.float_format = '{:.2f}'.format\n",
    "pd.set_option('display.max_rows', 500)\n",
    "pd.set_option('display.max_columns', 30)\n",
    "pd.set_option('display.max_colwidth', 16)"
   ]
  },
  {
   "cell_type": "code",
   "execution_count": null,
   "metadata": {},
   "outputs": [],
   "source": [
    "%load_ext autoreload\n",
    "%autoreload 2"
   ]
  },
  {
   "cell_type": "markdown",
   "metadata": {},
   "source": [
    "GETTING THE FIRST DATABASE & SETUP"
   ]
  },
  {
   "cell_type": "code",
   "execution_count": 103,
   "metadata": {},
   "outputs": [],
   "source": [
    "# Initiate SteamAPP setup\n",
    "load_dotenv()\n",
    "token = os.getenv(\"API_KEY\")\n",
    "params = {\"key\":token}\n",
    "url = \"http://api.steampowered.com/ISteamApps/GetAppList/v2/\""
   ]
  },
  {
   "cell_type": "markdown",
   "metadata": {},
   "source": [
    "API"
   ]
  },
  {
   "cell_type": "code",
   "execution_count": 104,
   "metadata": {},
   "outputs": [],
   "source": [
    "# grabs a list of all appids.\n",
    "\n",
    "scode, data = stf.get_url(url, params=params, type = \"api\")\n",
    "display(scode)\n",
    "app_dict = {app['name']: app['appid'] for app in data['applist']['apps']}"
   ]
  },
  {
   "cell_type": "code",
   "execution_count": 106,
   "metadata": {},
   "outputs": [],
   "source": [
    "### Manually created a dataframe from SteamDB\n",
    "# # loads the cleaned top 1000 list\n",
    "top1000 = pd.read_csv('TOP 1000 Games cleaned.csv')"
   ]
  },
  {
   "cell_type": "code",
   "execution_count": 107,
   "metadata": {},
   "outputs": [],
   "source": [
    "# initiates a new column\n",
    "top1000[\"APP ID\"] = 0"
   ]
  },
  {
   "cell_type": "code",
   "execution_count": 108,
   "metadata": {},
   "outputs": [],
   "source": [
    "# merges top1000 with appid list\n",
    "\n",
    "top1000_2 = stf.add_appid(top1000,app_dict)\n",
    "\n",
    "# saves a clean version of Top 1000\n",
    "\n",
    "top1000.to_csv('top_1000_games_cleaned_appid.csv', index=False)"
   ]
  },
  {
   "cell_type": "code",
   "execution_count": 109,
   "metadata": {},
   "outputs": [],
   "source": [
    "### Manual operation on top_1000_games_cleaned_appid.csv\n",
    "# manually entered some app-ids that were not fetched, renamed columns, created an id list for the next steps (webscrapping)\n",
    "\n",
    "appid_fix = pd.read_csv('top_1000_games_cleaned_appid_fix.csv')\n",
    "txt = appid_fix.rename({\"Game Title\":\"title\", \"Steam App ID\":\"id\"}, axis=1)\n",
    "appid_list = list(txt[\"id\"])"
   ]
  },
  {
   "cell_type": "code",
   "execution_count": 110,
   "metadata": {},
   "outputs": [],
   "source": [
    "# creates a tag dictionary, saves dict as a pickle object\n",
    "\n",
    "tag_dict = stf.get_tags(appid_list)\n",
    "pd.to_pickle(tag_dict, \"tag_dict.pkl\")"
   ]
  },
  {
   "cell_type": "code",
   "execution_count": 111,
   "metadata": {},
   "outputs": [],
   "source": [
    "# creates a breakpoint to prevent re-running the get tags\n",
    "\n",
    "with open (\"tag_dict.pkl\", \"rb\") as tag_dict_file:\n",
    "    tag_dict = pickle.load(tag_dict_file)\n"
   ]
  },
  {
   "cell_type": "code",
   "execution_count": 112,
   "metadata": {},
   "outputs": [],
   "source": [
    "# creates a row in our dataframe to accomodate tags.\n",
    "\n",
    "appid_fix[\"tags\"] = 0\n",
    "\n",
    "steam_df_tags = stf.add_tags(appid_fix,tag_dict)\n",
    "pd.to_pickle(steam_df_tags, \"steam_df_tags.pkl\")"
   ]
  },
  {
   "cell_type": "code",
   "execution_count": 5,
   "metadata": {},
   "outputs": [],
   "source": [
    "# Opens steam tags pickle and converts into csv\n",
    "\n",
    "with open (\"steam_df_tags.pkl\", \"rb\") as steam_df_tags_file:\n",
    "    steam_df_tags = pickle.load(steam_df_tags_file)\n",
    "    \n",
    "steam_df_tags.to_csv('steam_appid_tags.csv', index=False)"
   ]
  },
  {
   "cell_type": "code",
   "execution_count": 114,
   "metadata": {},
   "outputs": [],
   "source": [
    "# creates the multiplayer dictionary\n",
    "\n",
    "mp_dict = stf.check_multiplayer(appid_list, token, delay=1)\n",
    "pd.to_pickle(mp_dict, \"mp_dict.pkl\")"
   ]
  },
  {
   "cell_type": "code",
   "execution_count": 3,
   "metadata": {},
   "outputs": [],
   "source": [
    "# Opens multiplayer pickle and converts into csv\n",
    "\n",
    "with open (\"mp_dict.pkl\", \"rb\") as mp_dict_file:\n",
    "    mp_dict = pickle.load(mp_dict_file)"
   ]
  },
  {
   "cell_type": "code",
   "execution_count": 6,
   "metadata": {},
   "outputs": [],
   "source": [
    "# adds multiplayer tags into the steam tags\n",
    "\n",
    "steam_df_tags_mp = stf.add_mp(steam_df_tags, mp_dict)\n",
    "\n",
    "steam_df_tags_mp.to_csv('steam_appid_tags_mp.csv', index=False)"
   ]
  },
  {
   "cell_type": "code",
   "execution_count": 7,
   "metadata": {},
   "outputs": [],
   "source": [
    "# creates a dictionary with ids as keys, tags as values. Saves as pickle\n",
    "\n",
    "tags_mp_dict = steam_df_tags_mp.set_index(\"Steam App ID\")[\"tags\"].to_dict()\n",
    "\n",
    "with open (\"tags_mp_dict.pkl\", \"wb\") as tags_mp_dict_file:\n",
    "    pickle.dump(tags_mp_dict, tags_mp_dict_file)"
   ]
  },
  {
   "cell_type": "code",
   "execution_count": 8,
   "metadata": {},
   "outputs": [],
   "source": [
    "# makes a dict with appids and game titles\n",
    "\n",
    "tags_name_dict = steam_df_tags_mp.set_index(\"Steam App ID\")[\"Game Title\"].to_dict()"
   ]
  },
  {
   "cell_type": "code",
   "execution_count": null,
   "metadata": {},
   "outputs": [],
   "source": [
    "# converts keys into str (from int)\n",
    "\n",
    "tags_mp_dict_str = {str(key):value for key, value in tags_mp_dict.items()}"
   ]
  },
  {
   "cell_type": "markdown",
   "metadata": {},
   "source": [
    "Webscrapping"
   ]
  },
  {
   "cell_type": "code",
   "execution_count": 120,
   "metadata": {},
   "outputs": [],
   "source": [
    "## webscrapping, output\n",
    "\n",
    "game_id_dict, error_list = stf.overall_fetch(appid_list)"
   ]
  },
  {
   "cell_type": "code",
   "execution_count": 121,
   "metadata": {},
   "outputs": [],
   "source": [
    "# Saves our main source of information into a feather\n",
    "output = pd.DataFrame.from_dict(game_id_dict)\n",
    "output.to_feather(\"output.feather\")"
   ]
  },
  {
   "cell_type": "code",
   "execution_count": 122,
   "metadata": {},
   "outputs": [],
   "source": [
    "# Saves our error results into an error csv\n",
    "err_table = pd.DataFrame(error_list)\n",
    "err_table.to_csv(\"error.csv\")"
   ]
  },
  {
   "cell_type": "code",
   "execution_count": 123,
   "metadata": {},
   "outputs": [],
   "source": [
    "### Bridges the webscrapping/API part with the cleaning and processing parts\n",
    "\n",
    "# imports our feather database & gives us an idea of the shape/NaN's present\n",
    "output = pd.read_feather(\"output.feather\")\n",
    "#display(output.isna().sum())\n",
    "#display(output.shape)"
   ]
  },
  {
   "cell_type": "code",
   "execution_count": 124,
   "metadata": {},
   "outputs": [],
   "source": [
    "# Cleans database of most recent games (so from Aug 2019 -> Present)\n",
    "out2 = output.copy() \n",
    "filtered = out2.isna().sum(axis=0) > 85 ## 85 = Aug 2019\n",
    "filter = filtered[filtered]\n",
    "\n",
    "mask = list(filter.index)\n",
    "for code in mask:\n",
    "    out2.drop(code, axis = 1, inplace=True)"
   ]
  },
  {
   "cell_type": "code",
   "execution_count": 125,
   "metadata": {},
   "outputs": [],
   "source": [
    "### New row 0 \n",
    "out3 = out2.copy()\n",
    "\n",
    "# Define a new row of zeroes with the same number of columns as df\n",
    "zero_row = pd.DataFrame([[0] * len(out3.columns)], columns=out3.columns)\n",
    "\n",
    "# Concatenate the new zero row at index 0\n",
    "out4 = pd.concat([zero_row, out3]).reset_index(drop=True)\n",
    "\n",
    "# imports the tags and the multiplayer tags dictionaries\n",
    "with open (\"steam_df_tags.pkl\", \"rb\") as steam_df_tags_file:\n",
    "    steam_df_tags = pickle.load(steam_df_tags_file)\n",
    "\n",
    "with open (\"mp_dict.pkl\", \"rb\") as mp_dict_file:\n",
    "    mp_dict = pickle.load(mp_dict_file)\n",
    "\n",
    "# joins dictionaries\n",
    "steam_df_tags_mp = stf.add_mp(steam_df_tags, mp_dict)\n",
    "\n",
    "# creates the tags row and appends to out4\n",
    "tags_mp_dict = steam_df_tags_mp.set_index(\"Steam App ID\")[\"tags\"].to_dict()\n",
    "tags_mp_dict_str = {str(key):value for key, value in tags_mp_dict.items()}\n",
    "out4_2 = stf.add_tags_df(out4, tags_mp_dict_str)\n",
    "\n",
    "#display(out4_2)"
   ]
  },
  {
   "cell_type": "code",
   "execution_count": 126,
   "metadata": {},
   "outputs": [],
   "source": [
    "# Converts \"Date\" into DataFrame index\n",
    "out5=out4_2.copy()\n",
    "\n",
    "# creates a \"Date\" column\n",
    "out5_extracted = out5[\"730\"][1:].map(lambda x: x[\"Date\"] if isinstance(x, dict) else x)\n",
    "\n",
    "# takes appid \"730\" (which is one of the completed ones and uses it to define \"Data\" column)\n",
    "out5[\"Date\"] = out5_extracted # Adds the dates into column \"Date\"\n",
    "out5[\"Date\"][0] = \"Tags\" # Adds the Tags into row 0\n",
    "out5.set_index(\"Date\", inplace=True) # Sets column \"Date\" to be the index\n",
    "\n",
    "#display(out5)"
   ]
  },
  {
   "cell_type": "code",
   "execution_count": 127,
   "metadata": {},
   "outputs": [],
   "source": [
    "##### Converts columns into game's name\n",
    "out6 = out5.copy()\n",
    "\n",
    "# creates the id list\n",
    "txt2 = txt.rename({\"Game Title\":\"title\", \"Steam App ID\":\"id\"}, axis=1)\n",
    "txt2 = txt2[[\"id\",\"title\"]]\n",
    "txt2.set_index(\"id\", inplace=True)\n",
    "\n",
    "# Create a mapping from ids to titles\n",
    "title_mapping = {str(k): v for k, v in txt2[\"title\"].to_dict().items()}\n",
    "\n",
    "# Rename the columns in out4 using the mapping\n",
    "out6.columns = [title_mapping.get(str(col), col) for col in out4.columns]\n",
    "\n",
    "# Creates our main dataframe visualization \n",
    "visual = \"Peak Players\" # DB issue, needs fixing\n",
    "out6 = out6.apply(lambda x: x.apply(lambda y: y.get(visual) if isinstance(y, dict) and visual in y else y), axis=0)\n",
    "out6[1:] = round(out6[1:].fillna(0).astype(float),0).astype(int)\n",
    "\n",
    "#display(out6)"
   ]
  },
  {
   "cell_type": "code",
   "execution_count": 128,
   "metadata": {},
   "outputs": [],
   "source": [
    "# More cleaning while looking at data. Disregarding outliers etc..\n",
    "out7 = out6.copy()\n",
    "\n",
    "## Drops bot-afflicted games that warped data == Outlier\n",
    "out7.drop(\"POSTAL\", axis=1, inplace=True)\n",
    "\n",
    "# Creates a new column (Total) and concats into the existing dataframe\n",
    "out7[\"Total\"]=0\n",
    "out7.loc[out7.index[1:], 'Total'] = out7.iloc[1:, :].sum(axis=1)\n",
    "\n",
    "#display(out7)"
   ]
  },
  {
   "cell_type": "code",
   "execution_count": null,
   "metadata": {},
   "outputs": [],
   "source": [
    "# Adds Z-Column\n",
    "out8 = out7.copy()\n",
    "\n",
    "out8['Z'] = 0 # creates an empty column named \"Z\"\n",
    "out8['Z'][1:] = stf.z_norm(out8['Total'][1:]) # adds Z-normalized values into Z column"
   ]
  },
  {
   "cell_type": "markdown",
   "metadata": {},
   "source": [
    "DATA VISUALIZATION"
   ]
  },
  {
   "cell_type": "code",
   "execution_count": null,
   "metadata": {},
   "outputs": [],
   "source": [
    "# plots total average players per date\n",
    "\n",
    "stf.t_plot(out8,[\"Total\"],\"Average players total\",\"y\")"
   ]
  },
  {
   "cell_type": "code",
   "execution_count": 131,
   "metadata": {},
   "outputs": [],
   "source": [
    "list_tags =[value.split(\",\") for value in tags_mp_dict.values()]\n",
    "set_tags = {item.strip() for sublist in list_tags for item in sublist}\n",
    "\n",
    "#list(set_tags)"
   ]
  },
  {
   "cell_type": "code",
   "execution_count": null,
   "metadata": {},
   "outputs": [],
   "source": [
    "# creates the dataframes for all the game_types defined\n",
    "game_types = ['Racing', 'Sports', 'RPG', 'Action', 'Casual', 'Adventure', 'Indie', 'Simulation', 'Strategy', 'Multi-player', 'Co-op']\n",
    "\n",
    "# creates a dictionary with all the dataframes created\n",
    "lgames = {}\n",
    "\n",
    "for game in game_types:\n",
    "    globals()[f\"{game}_df\"] = stf.make_type(out8, game)\n",
    "    lgames[f\"{game}_df\"] = globals()[f\"{game}_df\"]\n",
    "    "
   ]
  },
  {
   "cell_type": "code",
   "execution_count": 133,
   "metadata": {},
   "outputs": [],
   "source": [
    "# compresses all the common types: ['Racing', 'Sports']\n",
    "sports_df = pd.concat([Racing_df, Sports_df], axis=1)\n",
    "sports_df[\"sports\"]=sports_df.sum(axis=1)\n",
    "sports_df.drop(['Sports','Racing'], axis=1, inplace = True)\n",
    "sports_df.rename(columns={\"sports\": \"Sports\"}, inplace=True)\n",
    "\n",
    "lgames[\"sports_df\"]=sports_df"
   ]
  },
  {
   "cell_type": "code",
   "execution_count": null,
   "metadata": {},
   "outputs": [],
   "source": [
    "# creates a dataframe of a specific genre with a single column that contains the specified value \n",
    "df2 = out8.copy()\n",
    "\n",
    "columns_to_keep = df2.columns[~df2.iloc[0].astype(str).str.strip().str.contains(\"Multi-player\")]\n",
    "output = out8[columns_to_keep].copy()\n",
    "\n",
    "# Step 2: Ensure all relevant columns are numeric\n",
    "for col in output.columns:\n",
    "    output[col] = pd.to_numeric(output[col], errors='coerce')\n",
    "\n",
    "# Step 3: Add \"not multi-player\" column by summing numeric values, ignoring the first row\n",
    "output[\"not Multi-player\"] = output.iloc[1:, :].sum(axis=1)  # Sum from the second row onward\n",
    "\n",
    "# Step 4: Subtract the \"Total\" for each relevant row\n",
    "output[\"not Multi-player\"] = output[\"not Multi-player\"] - pd.to_numeric(out8.iloc[1:, out8.columns.get_loc(\"Total\")], errors='coerce')\n",
    "\n",
    "# Step 5: Ensure values do not exceed the total (if needed)\n",
    "output[\"not Multi-player\"] = output[\"not Multi-player\"].clip(lower=0)  # Avoid negative values\n",
    "\n",
    "# Step 6: Filter the resulting DataFrame for \"not multi-player\"\n",
    "not_mp_df = output.filter(like=\"not Multi-player\", axis=1)\n",
    "\n",
    "#not_mp_df"
   ]
  },
  {
   "cell_type": "code",
   "execution_count": 135,
   "metadata": {},
   "outputs": [],
   "source": [
    "# removes old dataframes from the list \n",
    "\n",
    "pop_keys = ['Racing_df', 'Sports_df']\n",
    "\n",
    "for key in pop_keys:\n",
    "    lgames.pop(key, None)\n",
    "\n",
    "# makes a single dataframe with the total average per gametype\n",
    "lgames_upd=None\n",
    "\n",
    "for df in lgames.values():\n",
    "    if lgames_upd is None:\n",
    "        lgames_upd = df\n",
    "    else:\n",
    "        lgames_upd = pd.merge(lgames_upd, df, left_index=True, right_index=True)\n",
    "\n",
    "lgames_upd[\"not Multi-player\"] = not_mp_df\n",
    "lgames_upd[\"Total\"] = out7[\"Total\"]\n",
    "#display(lgames_upd)"
   ]
  },
  {
   "cell_type": "code",
   "execution_count": null,
   "metadata": {},
   "outputs": [],
   "source": [
    "# plots average player by gender over time\n",
    "\n",
    "stf.t_plot(lgames_upd,list(lgames_upd.columns),\"players by genre\",\"n\")"
   ]
  },
  {
   "cell_type": "code",
   "execution_count": null,
   "metadata": {},
   "outputs": [],
   "source": [
    "# plots multiplayer vs non-multiplayer over time\n",
    "\n",
    "stf.t_plot(lgames_upd,[\"Multi-player\", \"not Multi-player\"],\"Multiplayer vs non Multiplayer\",\"n\")"
   ]
  }
 ],
 "metadata": {
  "kernelspec": {
   "display_name": "Python 3 (ipykernel)",
   "language": "python",
   "name": "python3"
  },
  "language_info": {
   "codemirror_mode": {
    "name": "ipython",
    "version": 3
   },
   "file_extension": ".py",
   "mimetype": "text/x-python",
   "name": "python",
   "nbconvert_exporter": "python",
   "pygments_lexer": "ipython3",
   "version": "3.8.1"
  }
 },
 "nbformat": 4,
 "nbformat_minor": 4
}
