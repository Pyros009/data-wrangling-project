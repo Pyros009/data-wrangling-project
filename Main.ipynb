{
 "cells": [
  {
   "cell_type": "code",
   "execution_count": 4,
   "metadata": {},
   "outputs": [],
   "source": [
    "import aiohttp, http, asyncio, requests, re, time, os\n",
    "from bs4 import BeautifulSoup\n",
    "import pandas as pd\n",
    "import seaborn as sns\n",
    "import matplotlib.pyplot as plt\n",
    "import matplotlib.dates as mdates"
   ]
  },
  {
   "cell_type": "code",
   "execution_count": 5,
   "metadata": {},
   "outputs": [],
   "source": [
    "pd.set_option('display.max_rows', 8000)\n",
    "pd.set_option('display.max_columns', 19)\n",
    "pd.set_option('display.max_colwidth', 16)"
   ]
  },
  {
   "cell_type": "markdown",
   "metadata": {},
   "source": [
    "FUNCTIONS"
   ]
  },
  {
   "cell_type": "code",
   "execution_count": 6,
   "metadata": {},
   "outputs": [],
   "source": [
    "def get_url(url, headers=None, params=None):\n",
    "    \n",
    "    response = requests.get(url,headers=headers, params=params)\n",
    "    stat = response.status_code\n",
    "    soup = BeautifulSoup(response.content, 'html.parser')\n",
    "    time.sleep(1)\n",
    "    \n",
    "    return stat, soup\n",
    "\n",
    "def fetch_dict(soup, gameid):\n",
    "    k_value = 0\n",
    "    players = soup.find(\"tbody\")\n",
    "    play = re.split(r\"[\\n\\t]+\",players.get_text().strip())\n",
    "    player_game = {} \n",
    "\n",
    "    for i in range(0, len(play), 5):\n",
    "        # Date\n",
    "        date = play[i]\n",
    "        # Peak players\n",
    "        peak = play[i+1]  \n",
    "        # Average players\n",
    "        average = play[i +4]\n",
    "        player_game[k_value]={\"Date\": date,\n",
    "                            \"Peak Players\":peak,\n",
    "                            \"Avg Players\":average,\n",
    "        }\n",
    "        \n",
    "        k_value += 1\n",
    "        \n",
    "    return player_game\n",
    "\n",
    "def overall_fetch(list_id):\n",
    "    error_list =[]\n",
    "    game_id_dict = {}\n",
    "    for gameid in list_id:\n",
    "        gameid = str(gameid)\n",
    "        url = f'https://steamcharts.com/app/{gameid}'\n",
    "        headers= {'User-Agent': 'Mozilla/5.0 (Windows NT 10.0; Win64; x64) AppleWebKit/537.36 (KHTML, like Gecko) Chrome/122.0.0.0 Safari/537.36'}\n",
    "        try:\n",
    "            stat, soup = get_url(url, headers=headers, params=gameid)\n",
    "            if stat == 200:\n",
    "                print(f\"Webcode status is : {stat} for {gameid} id. \")\n",
    "                player_game = fetch_dict(soup, gameid)\n",
    "                game_id_dict[gameid] = player_game.copy()\n",
    "            else:\n",
    "                error_list.append((gameid, stat))\n",
    "                print(f\"Appid: {gameid} reported an error {stat}, skipping it for now\")    \n",
    "        except Exception as e:  # Catch specific exceptions\n",
    "            error_list.append((gameid, stat))\n",
    "            print(f\"App ID: {gameid} reported an error: {str(e)}, skipping it for now.\")\n",
    "            \n",
    "    \n",
    "    return game_id_dict, error_list"
   ]
  },
  {
   "cell_type": "markdown",
   "metadata": {},
   "source": [
    "MAIN CODES"
   ]
  },
  {
   "cell_type": "code",
   "execution_count": 7,
   "metadata": {},
   "outputs": [],
   "source": [
    "# creates the games id list\n",
    "txt = pd.read_csv(r\"C:\\\\Users\\\\Utilizador\\\\Desktop\\\\IRONHACK\\\\Project 3\\\\Project-3\\\\top1k.csv\")\n",
    "txt = txt.rename({\"Game Title\":\"title\", \"Steam App ID\":\"id\"}, axis=1)\n",
    "list_id = list(txt[\"id\"])"
   ]
  },
  {
   "cell_type": "code",
   "execution_count": null,
   "metadata": {},
   "outputs": [],
   "source": [
    "## main program, output\n",
    "\n",
    "game_id_dict, error_list = overall_fetch(list_id)"
   ]
  },
  {
   "cell_type": "code",
   "execution_count": 31,
   "metadata": {},
   "outputs": [],
   "source": [
    "# Saves our main source of information into a feather\n",
    "output = pd.DataFrame.from_dict(game_id_dict)\n",
    "output.to_feather(\"output.feather\")"
   ]
  },
  {
   "cell_type": "code",
   "execution_count": 32,
   "metadata": {},
   "outputs": [],
   "source": [
    "# Saves our error results into an error csv\n",
    "err_table = pd.DataFrame(error_list)\n",
    "err_table.to_csv(\"error.csv\")"
   ]
  },
  {
   "cell_type": "code",
   "execution_count": null,
   "metadata": {},
   "outputs": [],
   "source": [
    "### Bridges the webscrapping/API part with the cleaning and processing parts\n",
    "\n",
    "# imports our feather database & gives us an idea of the shape/NaN's present\n",
    "output = pd.read_feather(\"C:\\\\Users\\\\Utilizador\\\\Desktop\\\\IRONHACK\\\\Project 3\\\\Project-3\\\\output.feather\")\n",
    "output.isna().sum()\n",
    "display(output.shape)"
   ]
  },
  {
   "cell_type": "code",
   "execution_count": 109,
   "metadata": {},
   "outputs": [],
   "source": [
    "# Cleans database of most recent games (so from Aug 2019 -> Present)\n",
    "out2 = output.copy() \n",
    "filtered = out2.isna().sum(axis=0) > 85 ## 85 = Aug 2019\n",
    "filter = filtered[filtered]\n",
    "\n",
    "mask = list(filter.index)\n",
    "for code in mask:\n",
    "    out2.drop(code, axis = 1, inplace=True)"
   ]
  },
  {
   "cell_type": "code",
   "execution_count": null,
   "metadata": {},
   "outputs": [],
   "source": [
    "# Converts \"Date\" into DataFrame index\n",
    "out3=out2.copy()\n",
    "out2_extracted = out2.applymap(lambda x: x[\"Date\"] if isinstance(x, dict) else x) \n",
    "\n",
    "out3[\"Date\"] = out2_extracted[\"730\"]\n",
    "out3.set_index('Date', inplace=True)\n",
    "\n",
    "out3_extracted = out3.applymap(lambda x: x[\"Avg Players\"] if isinstance(x, dict) else x)\n",
    "out3_extracted"
   ]
  },
  {
   "cell_type": "code",
   "execution_count": null,
   "metadata": {},
   "outputs": [],
   "source": [
    "# Converts columns into game's name\n",
    "out4 = out3.copy()\n",
    "# creates the id list\n",
    "txt2 = txt.rename({\"Game Title\":\"title\", \"Steam App ID\":\"id\"}, axis=1)\n",
    "txt2 = txt2[[\"id\",\"title\"]]\n",
    "txt2.set_index(\"id\", inplace=True)\n",
    "\n",
    "# Create a mapping from ids to titles\n",
    "title_mapping = {str(k): v for k, v in txt2[\"title\"].to_dict().items()}\n",
    "\n",
    "# Rename the columns in out4 using the mapping\n",
    "out4.columns = [title_mapping.get(str(col), col) for col in out4.columns]\n",
    "\n",
    "# Creates our main dataframe visualization \n",
    "visual = \"Peak Players\"\n",
    "out4 = out4.applymap(lambda x: x[visual] if isinstance(x, dict) else x)\n",
    "out4 = round(out4.fillna(0).astype(float),0).astype(int)\n",
    "out4"
   ]
  },
  {
   "cell_type": "code",
   "execution_count": null,
   "metadata": {},
   "outputs": [],
   "source": [
    "# More cleaning while looking at data. Disregarding outliers etc..\n",
    "out5 = out4.copy()\n",
    "\n",
    "## Drops useless games that make weird spikes\n",
    "out5.drop(\"POSTAL\", axis=1, inplace=True)\n",
    "\n",
    "# Creates a new column (Total) and concats into the existing dataframe\n",
    "total_column = out5.sum(axis = 1)\n",
    "out5 = pd.concat([out5, total_column.rename(\"Total\")], axis=1)"
   ]
  },
  {
   "cell_type": "code",
   "execution_count": null,
   "metadata": {},
   "outputs": [],
   "source": [
    "# Normalization 1 (average gains) - Assuming 'Total' is the column you want to apply the formula to\n",
    "out5['Value'] = (out5['Total'] - out5['Total'].shift(-1)) / out5['Total']\n",
    "display(out5)\n",
    "#display(txt2)"
   ]
  },
  {
   "cell_type": "code",
   "execution_count": 100,
   "metadata": {},
   "outputs": [],
   "source": [
    "# further normalizations - Z score normalization\n",
    "def z_norm(column):\n",
    "    mean = column.mean()\n",
    "    std_dev = column.std()\n",
    "    return (column - mean) / std_dev\n",
    "\n",
    "out5['Z'] = z_norm(out5['Total'])\n",
    "\n",
    "out5"
   ]
  },
  {
   "cell_type": "code",
   "execution_count": null,
   "metadata": {},
   "outputs": [],
   "source": [
    "## Data Visualization \n",
    "\n",
    "# Set theme and palette\n",
    "sns.set_theme(style=\"darkgrid\")\n",
    "sns.set_palette(\"viridis\")\n",
    "\n",
    "# Create a line plot for Total values over Date\n",
    "plt.figure(figsize=(12, 6))  # Adjust figure size\n",
    "sns.lineplot(data=out5, x=out5.index, y='Z', marker='o', linestyle='--', linewidth=2)\n",
    "\n",
    "#### Add a vertical line on a specific date\n",
    "\n",
    "# Covid related lines\n",
    "plt.axvline(x=\"November 2019\", color='orange', linestyle='--', linewidth=1)\n",
    "plt.axvline(x=\"January 2020\", color='red', linestyle='--', linewidth=1)\n",
    "plt.axvline(x=\"June 2020\", color='green', linestyle='--', linewidth=1)\n",
    "\n",
    "plt.text(x=\"November 2019\", y=-2,  s='Nov19: China warns about Covid', color='orange', fontsize=10, ha='right', rotation=90)\n",
    "plt.text(x=\"January 2020\", y=-2, s='Jan20: WHO acknoledges Covid', color='red', fontsize=10, ha='left', rotation=90)\n",
    "plt.text(x=\"June 2020\", y=-2, s='Jun20: end of first big lockdown period', color='green', fontsize=10, ha='right', rotation=90)\n",
    "\n",
    "# Game related lines\n",
    "plt.axvline(x=\"December 2017\", color='cyan', linestyle='--', linewidth=1)\n",
    "plt.axvline(x=\"December 2020\", color='cyan', linestyle='--', linewidth=1)\n",
    "plt.axvline(x=\"September 2021\", color='cyan', linestyle='--', linewidth=1)\n",
    "plt.axvline(x=\"February 2021\", color='cyan', linestyle='--', linewidth=1)\n",
    "plt.axvline(x=\"March 2019\", color='cyan', linestyle='--', linewidth=1)\n",
    "\n",
    "\n",
    "plt.text(x=\"December 2017\", y=-2, s=\"PUBG goes live\", color='cyan', fontsize=10, ha='right', rotation=90)\n",
    "plt.text(x=\"December 2020\", y=-2, s=\"Cyberpunk goes live\", color='cyan', fontsize=10, ha='right', rotation=90)\n",
    "plt.text(x=\"September 2021\", y=-2, s=\"New World goes live\", color='cyan', fontsize=10, ha='right', rotation=90)\n",
    "plt.text(x=\"February 2021\", y=-2, s=\"Valheim goes live\", color='cyan', fontsize=10, ha='right', rotation=90)\n",
    "plt.text(x=\"March 2019\", y=-2, s=\"Sekiro goes live\", color='cyan', fontsize=10, ha='right', rotation=90)\n",
    "\n",
    "### Graphic formatting\n",
    "\n",
    "# Format the date on the x-axis\n",
    "plt.gca().xaxis.set_major_locator(mdates.MonthLocator(interval=1))\n",
    "\n",
    "#Limit x-axis onto a specific interval \n",
    "plt.xlim('August 2022', 'August 2018')  # Specify the limits as strings\n",
    "plt.gca().invert_xaxis() # inverts the x-axis (more suited for dates as it grows from left to right)\n",
    "\n",
    "# Set titles and labels\n",
    "plt.title('Z-values Over Time')\n",
    "plt.xlabel('Date')\n",
    "plt.ylabel('Z-Value')\n",
    "plt.xticks(rotation=45)  # Rotate x-axis labels for better readability\n"
   ]
  }
 ],
 "metadata": {
  "kernelspec": {
   "display_name": "Python 3",
   "language": "python",
   "name": "python3"
  },
  "language_info": {
   "codemirror_mode": {
    "name": "ipython",
    "version": 3
   },
   "file_extension": ".py",
   "mimetype": "text/x-python",
   "name": "python",
   "nbconvert_exporter": "python",
   "pygments_lexer": "ipython3",
   "version": "3.8.1"
  }
 },
 "nbformat": 4,
 "nbformat_minor": 2
}
