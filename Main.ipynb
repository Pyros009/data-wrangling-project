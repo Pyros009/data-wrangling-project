{
 "cells": [
  {
   "cell_type": "code",
   "execution_count": 3,
   "metadata": {},
   "outputs": [],
   "source": [
    "import aiohttp, http, asyncio, requests, re, time, os, json, pickle\n",
    "from bs4 import BeautifulSoup\n",
    "import pandas as pd\n",
    "import seaborn as sns\n",
    "import matplotlib.pyplot as plt\n",
    "import matplotlib.dates as mdates\n",
    "import steam_tags_f as stf\n"
   ]
  },
  {
   "cell_type": "code",
   "execution_count": 4,
   "metadata": {},
   "outputs": [],
   "source": [
    "pd.options.display.float_format = '{:.2f}'.format\n",
    "pd.set_option('display.max_rows', 500)\n",
    "pd.set_option('display.max_columns', 30)\n",
    "pd.set_option('display.max_colwidth', 16)"
   ]
  },
  {
   "cell_type": "code",
   "execution_count": 5,
   "metadata": {},
   "outputs": [],
   "source": [
    "#%load_ext autoreload\n",
    "#%autoreload 2 "
   ]
  },
  {
   "cell_type": "markdown",
   "metadata": {},
   "source": [
    "GETTING THE TAGS AND MULTIPLAYER INFO"
   ]
  },
  {
   "cell_type": "code",
   "execution_count": null,
   "metadata": {},
   "outputs": [],
   "source": [
    "url = \"http://api.steampowered.com/ISteamApps/GetAppList/v2/\"\n",
    "token = \"1AC3575ADB761319F3EF72D1FA362232\"\n",
    "params = {\"key\":token}\n",
    "\n",
    "scode, data = stf.get_url(url, params=params, type = \"api\")\n",
    "display(scode)"
   ]
  },
  {
   "cell_type": "code",
   "execution_count": null,
   "metadata": {},
   "outputs": [],
   "source": [
    "top1000 = pd.read_csv('TOP 1000 Games cleaned.csv')"
   ]
  },
  {
   "cell_type": "code",
   "execution_count": null,
   "metadata": {},
   "outputs": [],
   "source": [
    "top1000[\"APP ID\"] = 0"
   ]
  },
  {
   "cell_type": "code",
   "execution_count": null,
   "metadata": {},
   "outputs": [],
   "source": [
    "#top1000_2 = stf.add_appid(top1000,app_dict)"
   ]
  },
  {
   "cell_type": "code",
   "execution_count": null,
   "metadata": {},
   "outputs": [],
   "source": [
    "#top1000.to_csv('TOP 1000 Games cleaned AppId.csv', index=False)"
   ]
  },
  {
   "cell_type": "code",
   "execution_count": null,
   "metadata": {},
   "outputs": [],
   "source": [
    "#manually entered some app-ids that were not fetched\n",
    "appid_fix = pd.read_csv('top_1000_games_cleaned_appid_fix.csv')"
   ]
  },
  {
   "cell_type": "code",
   "execution_count": null,
   "metadata": {},
   "outputs": [],
   "source": [
    "appid_fix"
   ]
  },
  {
   "cell_type": "code",
   "execution_count": null,
   "metadata": {},
   "outputs": [],
   "source": [
    "txt = pd.read_csv(r\"top_1000_games_cleaned_appid_fix.csv\")\n",
    "txt = txt.rename({\"Game Title\":\"title\", \"Steam App ID\":\"id\"}, axis=1)\n",
    "appid_list = list(txt[\"id\"])"
   ]
  },
  {
   "cell_type": "code",
   "execution_count": null,
   "metadata": {},
   "outputs": [],
   "source": [
    "# Example\n",
    "appid = 226320\n",
    "\n",
    "# Step 1: Make a request to the Steam API\n",
    "response = requests.get(f\"http://store.steampowered.com/api/appdetails?appids={appid}\")\n",
    "\n",
    "# Step 2: Parse the response\n",
    "game = response.json()\n",
    "\n",
    "#Step 3: Pretty-print the JSON response for better readability\n",
    "print(json.dumps(game, indent=4))  # Format with indentation of 4 spaces\n"
   ]
  },
  {
   "cell_type": "code",
   "execution_count": null,
   "metadata": {},
   "outputs": [],
   "source": [
    "genres = game[\"226320\"][\"data\"][\"genres\"]\n",
    "descriptions = [genre[\"description\"] for genre in genres]\n",
    "print (descriptions)"
   ]
  },
  {
   "cell_type": "code",
   "execution_count": null,
   "metadata": {},
   "outputs": [],
   "source": [
    "result = stf.check_multiplayer_single(\"1599340\")\n",
    "print(result) "
   ]
  },
  {
   "cell_type": "code",
   "execution_count": null,
   "metadata": {},
   "outputs": [],
   "source": [
    "#tag_dict = stf.get_tags(appid_list)"
   ]
  },
  {
   "cell_type": "code",
   "execution_count": null,
   "metadata": {},
   "outputs": [],
   "source": [
    "with open (\"tag_dict.pkl\", \"rb\") as tag_dict_file:\n",
    "    tag_dict = pickle.load(tag_dict_file)\n"
   ]
  },
  {
   "cell_type": "code",
   "execution_count": null,
   "metadata": {},
   "outputs": [],
   "source": [
    "tag_dict"
   ]
  },
  {
   "cell_type": "code",
   "execution_count": null,
   "metadata": {},
   "outputs": [],
   "source": [
    "appid_fix[\"tags\"] = 0\n",
    "\n",
    "#steam_df_tags = stf.add_tags(appid_fix,tag_dict)"
   ]
  },
  {
   "cell_type": "code",
   "execution_count": null,
   "metadata": {},
   "outputs": [],
   "source": [
    "with open (\"steam_df_tags.pkl\", \"rb\") as steam_df_tags_file:\n",
    "    steam_df_tags = pickle.load(steam_df_tags_file)\n",
    "\n",
    "#steam_df_tags"
   ]
  },
  {
   "cell_type": "code",
   "execution_count": null,
   "metadata": {},
   "outputs": [],
   "source": [
    "#steam_df_tags.to_csv('steam_appid_tags.csv', index=False)"
   ]
  },
  {
   "cell_type": "code",
   "execution_count": null,
   "metadata": {},
   "outputs": [],
   "source": [
    "token = \"1AC3575ADB761319F3EF72D1FA362232\""
   ]
  },
  {
   "cell_type": "code",
   "execution_count": null,
   "metadata": {},
   "outputs": [],
   "source": [
    "#mp_dict = stf.check_multiplayer(appid_list, token, delay=1)"
   ]
  },
  {
   "cell_type": "code",
   "execution_count": null,
   "metadata": {},
   "outputs": [],
   "source": [
    "with open (\"steam_df_tags.pkl\", \"rb\") as steam_df_tags_file:\n",
    "    steam_df_tags = pickle.load(steam_df_tags_file)\n",
    "\n",
    "with open (\"mp_dict.pkl\", \"rb\") as mp_dict_file:\n",
    "    mp_dict = pickle.load(mp_dict_file)\n",
    "\n",
    "mp_dict"
   ]
  },
  {
   "cell_type": "code",
   "execution_count": null,
   "metadata": {},
   "outputs": [],
   "source": [
    "with open (\"steam_df_tags.pkl\", \"rb\") as steam_df_tags_file:\n",
    "    steam_df_tags = pickle.load(steam_df_tags_file)\n",
    "\n",
    "with open (\"mp_dict.pkl\", \"rb\") as mp_dict_file:\n",
    "    mp_dict = pickle.load(mp_dict_file)\n",
    "\n",
    "steam_df_tags_mp = stf.add_mp(steam_df_tags, mp_dict)"
   ]
  },
  {
   "cell_type": "code",
   "execution_count": null,
   "metadata": {},
   "outputs": [],
   "source": [
    "steam_df_tags_mp.head(20)"
   ]
  },
  {
   "cell_type": "code",
   "execution_count": null,
   "metadata": {},
   "outputs": [],
   "source": [
    "steam_df_tags_mp.to_csv('steam_appid_tags_mp.csv', index=False)"
   ]
  },
  {
   "cell_type": "code",
   "execution_count": null,
   "metadata": {},
   "outputs": [],
   "source": [
    "tags_mp_dict = steam_df_tags_mp.set_index(\"Steam App ID\")[\"tags\"].to_dict()"
   ]
  },
  {
   "cell_type": "code",
   "execution_count": null,
   "metadata": {},
   "outputs": [],
   "source": [
    "tags_mp_dict"
   ]
  },
  {
   "cell_type": "code",
   "execution_count": null,
   "metadata": {},
   "outputs": [],
   "source": [
    "#with open (\"tags_mp_dict.pkl\", \"wb\") as tags_mp_dict_file:\n",
    "    #pickle.dump(tags_mp_dict, tags_mp_dict_file)"
   ]
  },
  {
   "cell_type": "code",
   "execution_count": null,
   "metadata": {},
   "outputs": [],
   "source": [
    "tags_name_dict = steam_df_tags_mp.set_index(\"Steam App ID\")[\"Game Title\"].to_dict()"
   ]
  },
  {
   "cell_type": "code",
   "execution_count": null,
   "metadata": {},
   "outputs": [],
   "source": [
    "tags_name_dict[226320]"
   ]
  },
  {
   "cell_type": "code",
   "execution_count": null,
   "metadata": {},
   "outputs": [],
   "source": [
    "tags_name_dict"
   ]
  },
  {
   "cell_type": "code",
   "execution_count": null,
   "metadata": {},
   "outputs": [],
   "source": [
    "#with open (\"tags_name_dict.pkl\", \"wb\") as tags_name_dict_file:\n",
    "   # pickle.dump(tags_name_dict, tags_name_dict_file)"
   ]
  },
  {
   "cell_type": "code",
   "execution_count": null,
   "metadata": {},
   "outputs": [],
   "source": []
  },
  {
   "cell_type": "code",
   "execution_count": null,
   "metadata": {},
   "outputs": [],
   "source": [
    "out3_extracted.head(10)"
   ]
  },
  {
   "cell_type": "code",
   "execution_count": null,
   "metadata": {},
   "outputs": [],
   "source": [
    "#tags_mp_dict"
   ]
  },
  {
   "cell_type": "code",
   "execution_count": null,
   "metadata": {},
   "outputs": [],
   "source": [
    "#for transposing new_df = out3_extracted.T.copy()\n",
    "\n",
    "new_df = out3.copy()"
   ]
  },
  {
   "cell_type": "code",
   "execution_count": null,
   "metadata": {},
   "outputs": [],
   "source": [
    "new_df.columns"
   ]
  },
  {
   "cell_type": "code",
   "execution_count": null,
   "metadata": {},
   "outputs": [],
   "source": [
    "new_row = pd.DataFrame(tags_mp_dict, index = [0])"
   ]
  },
  {
   "cell_type": "code",
   "execution_count": null,
   "metadata": {},
   "outputs": [],
   "source": [
    "#add row [0]\n",
    "#for col in new_df.columns:\n",
    "#    if col in tags_mp_dict.keys()\n",
    "#        row [0][column] = tags_mp_dict[key]"
   ]
  },
  {
   "cell_type": "code",
   "execution_count": null,
   "metadata": {},
   "outputs": [],
   "source": [
    "# Define a new row of zeroes with the same number of columns as df\n",
    "zero_row = pd.DataFrame([[0] * len(new_df.columns)], columns=new_df.columns)\n",
    "\n",
    "# Concatenate the new zero row at index 0\n",
    "new_df_0 = pd.concat([zero_row, new_df]).reset_index(drop=True)"
   ]
  },
  {
   "cell_type": "code",
   "execution_count": null,
   "metadata": {},
   "outputs": [],
   "source": [
    "new_df_0"
   ]
  },
  {
   "cell_type": "code",
   "execution_count": null,
   "metadata": {},
   "outputs": [],
   "source": [
    "tags_mp_dict"
   ]
  },
  {
   "cell_type": "code",
   "execution_count": null,
   "metadata": {},
   "outputs": [],
   "source": [
    "tags_mp_dict_str = {str(key):value for key, value in tags_mp_dict.items()}"
   ]
  },
  {
   "cell_type": "code",
   "execution_count": null,
   "metadata": {},
   "outputs": [],
   "source": [
    "tags_mp_dict_str\n",
    "\n",
    "tags_name_dict = steam_df_tags_mp.set_index(\"Steam App ID\")[\"Game Title\"].to_dict()"
   ]
  },
  {
   "cell_type": "code",
   "execution_count": null,
   "metadata": {},
   "outputs": [],
   "source": [
    "def add_tags_df (df, dict):\n",
    "    df2 = df.copy()\n",
    "    for col in df2.columns:\n",
    "        if col in dict.keys():\n",
    "            df2.at[0, col] = dict[col]\n",
    "    return df2\n",
    "        \n",
    "        "
   ]
  },
  {
   "cell_type": "code",
   "execution_count": null,
   "metadata": {},
   "outputs": [],
   "source": [
    "with open (\"steam_df_tags.pkl\", \"rb\") as steam_df_tags_file:\n",
    "    steam_df_tags = pickle.load(steam_df_tags_file)\n",
    "\n",
    "with open (\"mp_dict.pkl\", \"rb\") as mp_dict_file:\n",
    "    mp_dict = pickle.load(mp_dict_file)\n",
    "\n",
    "steam_df_tags_mp = stf.add_mp(steam_df_tags, mp_dict)\n",
    "\n",
    "def add_tags_df (df, dict):\n",
    "    df2 = df.copy()\n",
    "    for col in df2.columns:\n",
    "        if col in dict.keys():\n",
    "            df2.at[0, col] = dict[col]\n",
    "    return df2\n",
    "\n",
    "tags_mp_dict_str = {str(key):value for key, value in tags_mp_dict.items()}\n",
    "df2 = add_tags_df(new_df_0, tags_mp_dict_str)"
   ]
  },
  {
   "cell_type": "code",
   "execution_count": null,
   "metadata": {},
   "outputs": [],
   "source": [
    "df2.head()"
   ]
  },
  {
   "cell_type": "code",
   "execution_count": null,
   "metadata": {},
   "outputs": [],
   "source": [
    "tags_name_dict"
   ]
  },
  {
   "cell_type": "code",
   "execution_count": null,
   "metadata": {},
   "outputs": [],
   "source": [
    "\"\"\"\n",
    "def add_tags_df (df, dict):\n",
    "    df2 = df.copy()\n",
    "    for col in df2.columns:\n",
    "        int_key = int(col)\n",
    "        if int_key in map (int, dict.keys()):\n",
    "            df2.at[0, col] = dict[str(col)]\n",
    "    return df2\n",
    "\"\"\"        \n",
    "        \n",
    "    "
   ]
  },
  {
   "cell_type": "code",
   "execution_count": null,
   "metadata": {},
   "outputs": [],
   "source": [
    "\"\"\"\n",
    "for col in df2.columns:\n",
    "        # Convert the integer key to string for comparison\n",
    "        str_key = str(col)\n",
    "        if str_key in map(str, tags_mp_dict.keys()):  # Check if the string version of the key exists in dictionary\n",
    "            df2.at[0, col] = tags_mp_dict[int(col)]  # Use .at to set value by label\n",
    "\n",
    "    return df2\n",
    "\"\"\""
   ]
  },
  {
   "cell_type": "code",
   "execution_count": null,
   "metadata": {},
   "outputs": [],
   "source": [
    "df2"
   ]
  },
  {
   "cell_type": "markdown",
   "metadata": {},
   "source": [
    "FUNCTIONS"
   ]
  },
  {
   "cell_type": "markdown",
   "metadata": {},
   "source": [
    "MAIN CODES"
   ]
  },
  {
   "cell_type": "code",
   "execution_count": 12,
   "metadata": {},
   "outputs": [],
   "source": []
  },
  {
   "cell_type": "code",
   "execution_count": null,
   "metadata": {},
   "outputs": [],
   "source": [
    "## main program, output\n",
    "\n",
    "game_id_dict, error_list = stf.overall_fetch(list_id)"
   ]
  },
  {
   "cell_type": "code",
   "execution_count": null,
   "metadata": {},
   "outputs": [],
   "source": [
    "# Saves our main source of information into a feather\n",
    "output = pd.DataFrame.from_dict(game_id_dict)\n",
    "output.to_feather(\"output.feather\")"
   ]
  },
  {
   "cell_type": "code",
   "execution_count": null,
   "metadata": {},
   "outputs": [],
   "source": [
    "# Saves our error results into an error csv\n",
    "err_table = pd.DataFrame(error_list)\n",
    "err_table.to_csv(\"error.csv\")"
   ]
  },
  {
   "cell_type": "code",
   "execution_count": null,
   "metadata": {},
   "outputs": [],
   "source": [
    "### Bridges the webscrapping/API part with the cleaning and processing parts\n",
    "\n",
    "# imports our feather database & gives us an idea of the shape/NaN's present\n",
    "output = pd.read_feather(\"output.feather\")\n",
    "output.isna().sum()\n",
    "display(output.shape)"
   ]
  },
  {
   "cell_type": "code",
   "execution_count": 6,
   "metadata": {},
   "outputs": [],
   "source": [
    "# creates the games id list\n",
    "txt = pd.read_csv(r\"C:\\\\Users\\\\Utilizador\\\\Desktop\\\\IRONHACK\\\\Project 3\\\\Project-3\\\\top1k.csv\")\n",
    "txt = txt.rename({\"Game Title\":\"title\", \"Steam App ID\":\"id\"}, axis=1)\n",
    "list_id = list(txt[\"id\"])"
   ]
  },
  {
   "cell_type": "code",
   "execution_count": 7,
   "metadata": {},
   "outputs": [],
   "source": [
    "# Cleans database of most recent games (so from Aug 2019 -> Present)\n",
    "out2 = output.copy() \n",
    "filtered = out2.isna().sum(axis=0) > 85 ## 85 = Aug 2019\n",
    "filter = filtered[filtered]\n",
    "\n",
    "mask = list(filter.index)\n",
    "for code in mask:\n",
    "    out2.drop(code, axis = 1, inplace=True)\n",
    "    \n"
   ]
  },
  {
   "cell_type": "code",
   "execution_count": null,
   "metadata": {},
   "outputs": [],
   "source": [
    "### New row 0 \n",
    "out3 = out2.copy()\n",
    "\n",
    "# Define a new row of zeroes with the same number of columns as df\n",
    "zero_row = pd.DataFrame([[0] * len(out3.columns)], columns=out3.columns)\n",
    "\n",
    "# Concatenate the new zero row at index 0\n",
    "out4 = pd.concat([zero_row, out3]).reset_index(drop=True)\n",
    "\n",
    "# adds tags to row 0\n",
    "with open (\"steam_df_tags.pkl\", \"rb\") as steam_df_tags_file:\n",
    "    steam_df_tags = pickle.load(steam_df_tags_file)\n",
    "\n",
    "with open (\"mp_dict.pkl\", \"rb\") as mp_dict_file:\n",
    "    mp_dict = pickle.load(mp_dict_file)\n",
    "\n",
    "steam_df_tags_mp = stf.add_mp(steam_df_tags, mp_dict)\n",
    "\n",
    "def add_tags_df (df, dict):\n",
    "    df2 = df.copy()\n",
    "    for col in df2.columns:\n",
    "        if col in dict.keys():\n",
    "            df2.at[0, col] = dict[col]\n",
    "    return df2\n",
    "\n",
    "tags_mp_dict = steam_df_tags_mp.set_index(\"Steam App ID\")[\"tags\"].to_dict()\n",
    "\n",
    "tags_mp_dict_str = {str(key):value for key, value in tags_mp_dict.items()}\n",
    "\n",
    "out4_2 = add_tags_df(out4, tags_mp_dict_str)\n",
    "\n",
    "\n",
    "\n",
    "\n",
    "display(out4_2)"
   ]
  },
  {
   "cell_type": "code",
   "execution_count": null,
   "metadata": {},
   "outputs": [],
   "source": [
    "# Converts \"Date\" into DataFrame index\n",
    "out5=out4_2.copy()\n",
    "\n",
    "out5_extracted = out5[\"730\"][1:].map(lambda x: x[\"Date\"] if isinstance(x, dict) else x)\n",
    "out5[\"Date\"] = out5_extracted ## takes row 730 (which is one of the completed ones and uses it to define \"Data\" column)\n",
    "out5[\"Date\"][0] = \"Tags\"\n",
    "out5.set_index(\"Date\", inplace=True)\n",
    "\n",
    "\n",
    "display(out5)\n",
    "\n",
    "#### What's this doing in here? not sure?\n",
    "#out5_extracted = out5.map(lambda x: x[\"Avg Players\"] if isinstance(x, dict) else x)\n",
    "#display(out5_extracted)"
   ]
  },
  {
   "cell_type": "code",
   "execution_count": null,
   "metadata": {},
   "outputs": [],
   "source": [
    "##### Converts columns into game's name\n",
    "out6 = out5.copy()\n",
    "# creates the id list\n",
    "txt2 = txt.rename({\"Game Title\":\"title\", \"Steam App ID\":\"id\"}, axis=1)\n",
    "txt2 = txt2[[\"id\",\"title\"]]\n",
    "txt2.set_index(\"id\", inplace=True)\n",
    "\n",
    "# Create a mapping from ids to titles\n",
    "title_mapping = {str(k): v for k, v in txt2[\"title\"].to_dict().items()}\n",
    "\n",
    "# Rename the columns in out4 using the mapping\n",
    "out6.columns = [title_mapping.get(str(col), col) for col in out4.columns]\n",
    "\n",
    "# Creates our main dataframe visualization \n",
    "visual = \"Peak Players\" # DB issue, needs fixing\n",
    "out6 = out6.apply(lambda x: x.apply(lambda y: y.get(visual) if isinstance(y, dict) and visual in y else y), axis=0)\n",
    "out6[1:] = round(out6[1:].fillna(0).astype(float),0).astype(int)\n",
    "out6"
   ]
  },
  {
   "cell_type": "code",
   "execution_count": 24,
   "metadata": {},
   "outputs": [],
   "source": [
    "out7 = out6.copy()"
   ]
  },
  {
   "cell_type": "code",
   "execution_count": null,
   "metadata": {},
   "outputs": [],
   "source": [
    "# More cleaning while looking at data. Disregarding outliers etc..\n",
    "out7 = out6.copy()\n",
    "\n",
    "## Drops useless games that make weird spikes\n",
    "out7.drop(\"POSTAL\", axis=1, inplace=True)\n",
    "\n",
    "# Creates a new column (Total) and concats into the existing dataframe\n",
    "out7[\"Total\"]=0\n",
    "out7.loc[out7.index[1:], 'Total'] = out7.iloc[1:, :].sum(axis=1)\n",
    "\n",
    "display(out7)"
   ]
  },
  {
   "cell_type": "code",
   "execution_count": null,
   "metadata": {},
   "outputs": [],
   "source": [
    "#\n",
    "out8 = out7.copy()\n",
    "\n",
    "# further normalizations - Z score normalization\n",
    "def z_norm(column):\n",
    "    mean = column.mean()\n",
    "    std_dev = column.std()\n",
    "    return (column - mean) / std_dev\n",
    "\n",
    "out8['Z'] = 0\n",
    "out8['Z'][1:] = z_norm(out8['Total'][1:])\n",
    "\n",
    "display(out8)"
   ]
  },
  {
   "cell_type": "code",
   "execution_count": null,
   "metadata": {},
   "outputs": [],
   "source": [
    "###\n",
    "out9 = out8.copy()\n",
    "\n",
    "print(out9.index)"
   ]
  },
  {
   "cell_type": "code",
   "execution_count": null,
   "metadata": {},
   "outputs": [],
   "source": [
    "filter_tags = out9[out9.index.str.contains('Multiplayer', case=False, na=False)]\n",
    "print(filter_tags)"
   ]
  },
  {
   "cell_type": "code",
   "execution_count": null,
   "metadata": {},
   "outputs": [],
   "source": [
    "\n",
    "\n",
    "## Data Visualization \n",
    "\n",
    "# Set theme and palette\n",
    "sns.set_theme(style=\"darkgrid\")\n",
    "sns.set_palette(\"viridis\")\n",
    "\n",
    "# Create a line plot for Total values over Date\n",
    "plt.figure(figsize=(12, 6))  # Adjust figure size\n",
    "sns.lineplot(data=out8[1:], x=out8.index[1:], y='Z', marker='o', linestyle='--', linewidth=2)\n",
    "\n",
    "#### Add a vertical line on a specific date\n",
    "\n",
    "# Covid related lines\n",
    "plt.axvline(x=\"November 2019\", color='orange', linestyle='--', linewidth=1)\n",
    "plt.axvline(x=\"January 2020\", color='red', linestyle='--', linewidth=1)\n",
    "plt.axvline(x=\"June 2020\", color='green', linestyle='--', linewidth=1)\n",
    "\n",
    "plt.text(x=\"November 2019\", y=-2,  s='Nov19: China warns about Covid', color='orange', fontsize=10, ha='right', rotation=90)\n",
    "plt.text(x=\"January 2020\", y=-2, s='Jan20: WHO acknoledges Covid', color='red', fontsize=10, ha='left', rotation=90)\n",
    "plt.text(x=\"June 2020\", y=-2, s='Jun20: end of first big lockdown period', color='green', fontsize=10, ha='right', rotation=90)\n",
    "\n",
    "# Game related lines\n",
    "plt.axvline(x=\"December 2017\", color='cyan', linestyle='--', linewidth=1)\n",
    "plt.axvline(x=\"December 2020\", color='cyan', linestyle='--', linewidth=1)\n",
    "plt.axvline(x=\"September 2021\", color='cyan', linestyle='--', linewidth=1)\n",
    "plt.axvline(x=\"February 2021\", color='cyan', linestyle='--', linewidth=1)\n",
    "plt.axvline(x=\"March 2019\", color='cyan', linestyle='--', linewidth=1)\n",
    "\n",
    "\n",
    "plt.text(x=\"December 2017\", y=-2, s=\"PUBG goes live\", color='cyan', fontsize=10, ha='right', rotation=90)\n",
    "plt.text(x=\"December 2020\", y=-2, s=\"Cyberpunk goes live\", color='cyan', fontsize=10, ha='right', rotation=90)\n",
    "plt.text(x=\"September 2021\", y=-2, s=\"New World goes live\", color='cyan', fontsize=10, ha='right', rotation=90)\n",
    "plt.text(x=\"February 2021\", y=-2, s=\"Valheim goes live\", color='cyan', fontsize=10, ha='right', rotation=90)\n",
    "plt.text(x=\"March 2019\", y=-2, s=\"Sekiro goes live\", color='cyan', fontsize=10, ha='right', rotation=90)\n",
    "\n",
    "### Graphic formatting\n",
    "\n",
    "# Format the date on the x-axis\n",
    "plt.gca().xaxis.set_major_locator(mdates.MonthLocator(interval=1))\n",
    "\n",
    "#Limit x-axis onto a specific interval \n",
    "plt.xlim('August 2022', 'August 2018')  # Specify the limits as strings\n",
    "plt.gca().invert_xaxis() # inverts the x-axis (more suited for dates as it grows from left to right)\n",
    "\n",
    "# Set titles and labels\n",
    "plt.title('Z-values Over Time')\n",
    "plt.xlabel('Date')\n",
    "plt.ylabel('Z-Value')\n",
    "plt.xticks(rotation=45)  # Rotate x-axis labels for better readability"
   ]
  },
  {
   "cell_type": "code",
   "execution_count": null,
   "metadata": {},
   "outputs": [],
   "source": []
  }
 ],
 "metadata": {
  "kernelspec": {
   "display_name": "Python 3 (ipykernel)",
   "language": "python",
   "name": "python3"
  },
  "language_info": {
   "codemirror_mode": {
    "name": "ipython",
    "version": 3
   },
   "file_extension": ".py",
   "mimetype": "text/x-python",
   "name": "python",
   "nbconvert_exporter": "python",
   "pygments_lexer": "ipython3",
   "version": "3.8.1"
  }
 },
 "nbformat": 4,
 "nbformat_minor": 4
}
