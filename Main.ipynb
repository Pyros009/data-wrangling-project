{
 "cells": [
  {
   "cell_type": "code",
   "execution_count": 19,
   "metadata": {},
   "outputs": [],
   "source": [
    "import aiohttp\n",
    "import http\n",
    "from bs4 import BeautifulSoup\n",
    "import asyncio\n",
    "import requests\n",
    "import pandas as pd\n",
    "import re, time"
   ]
  },
  {
   "cell_type": "markdown",
   "metadata": {},
   "source": [
    "FUNCTIONS"
   ]
  },
  {
   "cell_type": "code",
   "execution_count": 18,
   "metadata": {},
   "outputs": [],
   "source": [
    "def get_url(url, headers=None, params=None):\n",
    "    \n",
    "    response = requests.get(url,headers=headers, params=params)\n",
    "    stat = response.status_code\n",
    "    soup = BeautifulSoup(response.content, 'html.parser')\n",
    "    time.sleep(1)\n",
    "    \n",
    "    return stat, soup"
   ]
  },
  {
   "cell_type": "markdown",
   "metadata": {},
   "source": [
    "MAIN CODES"
   ]
  },
  {
   "cell_type": "code",
   "execution_count": null,
   "metadata": {},
   "outputs": [],
   "source": []
  },
  {
   "cell_type": "code",
   "execution_count": null,
   "metadata": {},
   "outputs": [],
   "source": [
    "gameid = \"582660\"\n",
    "url = f'https://steamcharts.com/app/{gameid}'\n",
    "headers= {'User-Agent': 'Mozilla/5.0 (Windows NT 10.0; Win64; x64) AppleWebKit/537.36 (KHTML, like Gecko) Chrome/122.0.0.0 Safari/537.36'}\n",
    "\n",
    "stat, soup = get_url(url, headers=headers, params=gameid)\n",
    "print(f\"Status is : {stat}\")"
   ]
  },
  {
   "cell_type": "code",
   "execution_count": null,
   "metadata": {},
   "outputs": [],
   "source": [
    "k_value = 0    \n",
    "game_id_dict = {}\n",
    "player_game = {} \n",
    "\n",
    "players = soup.find(\"tbody\")\n",
    "play = re.split(r\"[\\n\\t]+\",players.get_text().strip())\n",
    "\n",
    "for i in range(0, len(play), 5):\n",
    "    # Date\n",
    "    date = play[i]\n",
    "    # Peak players\n",
    "    peak = play[i+1]  \n",
    "    # Average players\n",
    "    average = play[i +4]\n",
    "    player_game[k_value]={\"Date\": date,\n",
    "                          \"Peak Players\":peak,\n",
    "                          \"Avg Players\":average,\n",
    "    }\n",
    "    k_value += 1\n",
    "    \n",
    "game_id_dict[gameid] = player_game.copy()\n",
    "\n",
    "game_id_dict\n"
   ]
  }
 ],
 "metadata": {
  "kernelspec": {
   "display_name": "Python 3",
   "language": "python",
   "name": "python3"
  },
  "language_info": {
   "codemirror_mode": {
    "name": "ipython",
    "version": 3
   },
   "file_extension": ".py",
   "mimetype": "text/x-python",
   "name": "python",
   "nbconvert_exporter": "python",
   "pygments_lexer": "ipython3",
   "version": "3.8.1"
  }
 },
 "nbformat": 4,
 "nbformat_minor": 2
}
